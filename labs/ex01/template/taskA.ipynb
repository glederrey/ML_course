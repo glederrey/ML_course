{
 "cells": [
  {
   "cell_type": "code",
   "execution_count": 1,
   "metadata": {
    "collapsed": true
   },
   "outputs": [],
   "source": [
    "%matplotlib inline\n",
    "import numpy as np\n",
    "import matplotlib.pyplot as plt\n",
    "%load_ext autoreload\n",
    "%autoreload 2"
   ]
  },
  {
   "cell_type": "markdown",
   "metadata": {},
   "source": [
    "Data Generation\n",
    "==="
   ]
  },
  {
   "cell_type": "code",
   "execution_count": 2,
   "metadata": {
    "collapsed": true
   },
   "outputs": [],
   "source": [
    "num_samples, num_features = 10, 5"
   ]
  },
  {
   "cell_type": "code",
   "execution_count": 3,
   "metadata": {
    "collapsed": true
   },
   "outputs": [],
   "source": [
    "np.random.seed(10)\n",
    "data = np.random.rand(num_samples, num_features)"
   ]
  },
  {
   "cell_type": "markdown",
   "metadata": {},
   "source": [
    "Solution\n",
    "==="
   ]
  },
  {
   "cell_type": "code",
   "execution_count": 4,
   "metadata": {
    "collapsed": false,
    "scrolled": false
   },
   "outputs": [
    {
     "name": "stdout",
     "output_type": "stream",
     "text": [
      "[[ 0.77132064  0.02075195  0.63364823  0.74880388  0.49850701]\n",
      " [ 0.22479665  0.19806286  0.76053071  0.16911084  0.08833981]\n",
      " [ 0.68535982  0.95339335  0.00394827  0.51219226  0.81262096]\n",
      " [ 0.61252607  0.72175532  0.29187607  0.91777412  0.71457578]\n",
      " [ 0.54254437  0.14217005  0.37334076  0.67413362  0.44183317]\n",
      " [ 0.43401399  0.61776698  0.51313824  0.65039718  0.60103895]\n",
      " [ 0.8052232   0.52164715  0.90864888  0.31923609  0.09045935]\n",
      " [ 0.30070006  0.11398436  0.82868133  0.04689632  0.62628715]\n",
      " [ 0.54758616  0.819287    0.19894754  0.8568503   0.35165264]\n",
      " [ 0.75464769  0.29596171  0.88393648  0.32551164  0.1650159 ]]\n"
     ]
    }
   ],
   "source": [
    "print(data)"
   ]
  },
  {
   "cell_type": "code",
   "execution_count": 5,
   "metadata": {
    "collapsed": true
   },
   "outputs": [],
   "source": [
    "def standardize(x):\n",
    "  for i in range(len(x[:, 0])):\n",
    "    x[i,:] = (x[i,:] - np.mean(x[i,:]))/np.std(x[i,:])\n",
    "\n",
    "  for i in range(len(x[0, :])):\n",
    "    x[:,i] = (x[:,i] - np.mean(x[:,i]))/np.std(x[:,i])\n",
    "\n",
    "  return x\n",
    "\n",
    "std_data = standardize(data)"
   ]
  },
  {
   "cell_type": "code",
   "execution_count": 6,
   "metadata": {
    "collapsed": false
   },
   "outputs": [
    {
     "name": "stdout",
     "output_type": "stream",
     "text": [
      "[[ 0.98367172 -1.64532538  0.22339089  0.56989624  0.09607333]\n",
      " [-0.51341651 -0.14235126  1.40236631 -0.82089809 -0.82663507]\n",
      " [ 0.20877895  1.33339491 -1.36122306 -0.55088018  1.14931768]\n",
      " [-0.41688056  0.57652921 -1.33128751  1.13310081  0.6737785 ]\n",
      " [ 0.64237579 -1.41758047 -0.29592617  1.18611658  0.32167085]\n",
      " [-2.33943272  0.92651154 -0.50863317  0.92207243  0.90042083]\n",
      " [ 1.05249793  0.20921862  0.88187552 -1.03823981 -1.64531428]\n",
      " [-0.52933238 -0.66784684  1.05016553 -1.50443312  1.33846778]\n",
      " [-0.20073057  1.26877637 -1.06223977  1.0030198  -0.77567788]\n",
      " [ 1.11246836 -0.44132669  1.00151144 -0.89975465 -1.23210174]] \n",
      "\n",
      " [  0.00000000e+00  -6.66133815e-17  -4.44089210e-17   2.22044605e-17\n",
      "   4.44089210e-17] \n",
      "\n",
      " [ 1.  1.  1.  1.  1.]\n"
     ]
    }
   ],
   "source": [
    "print(std_data, \"\\n\\n\", np.mean(std_data, axis=0), \"\\n\\n\", np.std(std_data, axis=0))"
   ]
  }
 ],
 "metadata": {
  "kernelspec": {
   "display_name": "Python [Root]",
   "language": "python",
   "name": "Python [Root]"
  },
  "language_info": {
   "codemirror_mode": {
    "name": "ipython",
    "version": 3
   },
   "file_extension": ".py",
   "mimetype": "text/x-python",
   "name": "python",
   "nbconvert_exporter": "python",
   "pygments_lexer": "ipython3",
   "version": "3.5.2"
  }
 },
 "nbformat": 4,
 "nbformat_minor": 0
}
